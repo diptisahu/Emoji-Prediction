{
  "cells": [
    {
      "cell_type": "markdown",
      "metadata": {
        "id": "view-in-github",
        "colab_type": "text"
      },
      "source": [
        "<a href=\"https://colab.research.google.com/github/diptisahu/Emoji-Prediction/blob/main/DNN_GloVe.ipynb\" target=\"_parent\"><img src=\"https://colab.research.google.com/assets/colab-badge.svg\" alt=\"Open In Colab\"/></a>"
      ]
    },
    {
      "cell_type": "code",
      "execution_count": null,
      "metadata": {
        "id": "0SjS9_VR_aCT"
      },
      "outputs": [],
      "source": [
        "import torch\n",
        "import torch.nn as nn\n",
        "import torch.nn.functional as F\n",
        "import torch.optim as optim\n",
        "from torch.utils.data import TensorDataset, DataLoader\n",
        "\n",
        "from sklearn.model_selection import train_test_split\n",
        "\n",
        "import re\n",
        "import pandas as pd\n",
        "import numpy as np\n",
        "from matplotlib import pyplot as plt"
      ]
    },
    {
      "cell_type": "code",
      "source": [
        "from google.colab import drive\n",
        "drive.mount('/content/drive')\n",
        "\n",
        "%cd /content/drive/MyDrive/Github/"
      ],
      "metadata": {
        "colab": {
          "base_uri": "https://localhost:8080/"
        },
        "id": "RcvSxty1JjGO",
        "outputId": "e1feafac-85cf-44c2-e8ba-15e14f1dfd21"
      },
      "execution_count": null,
      "outputs": [
        {
          "output_type": "stream",
          "name": "stdout",
          "text": [
            "Mounted at /content/drive\n",
            "/content/drive/MyDrive/Github\n"
          ]
        }
      ]
    },
    {
      "cell_type": "code",
      "execution_count": null,
      "metadata": {
        "colab": {
          "base_uri": "https://localhost:8080/"
        },
        "id": "S-h7-S23Jehz",
        "outputId": "7bc39c9c-56b8-4840-a5c4-73fe8a2f8fbc"
      },
      "outputs": [
        {
          "output_type": "stream",
          "name": "stdout",
          "text": [
            "Found 400000 word vectors.\n"
          ]
        }
      ],
      "source": [
        "glove_dir = './glove.6B.300d.txt'\n",
        "input_dim = 300\n",
        "\n",
        "vocab = {}\n",
        "with open(glove_dir, encoding='utf8') as f:\n",
        "    for line in f:\n",
        "        values = line.split()\n",
        "        word = values[0]\n",
        "        vector = np.asarray(values[1:], \"float32\")\n",
        "        vocab[word] = vector\n",
        "f.close()\n",
        "\n",
        "print('Found %s word vectors.' %len(vocab))"
      ]
    },
    {
      "cell_type": "code",
      "execution_count": null,
      "metadata": {
        "id": "O6ZmhG05Jeh0"
      },
      "outputs": [],
      "source": [
        "max_len = 50\n",
        "zero_padding = [0]*input_dim\n",
        "\n",
        "def get_embeddings(text, emb=\"LSTM\"):\n",
        "    if emb == \"DNN\":\n",
        "        embedding = [0]*input_dim\n",
        "        i = 0\n",
        "        for word in text.split(' '):\n",
        "            if word in vocab:\n",
        "                i += 1\n",
        "                embedding += vocab[word]\n",
        "\n",
        "        if i != 0:\n",
        "            embedding /= i\n",
        "\n",
        "        scale = 0 # noise weight_scale\n",
        "        noise = np.random.randn(input_dim)*scale\n",
        "        embedding += noise\n",
        "    elif emb == \"LSTM\":\n",
        "        embedding = []\n",
        "        i = 0\n",
        "        for word in text.split(' '):\n",
        "            if i == max_len:\n",
        "                break\n",
        "            if word in vocab:\n",
        "                i += 1\n",
        "                embedding.append(vocab[word])\n",
        "        \n",
        "        while i < max_len:\n",
        "            i += 1\n",
        "            embedding.append(zero_padding)\n",
        "            \n",
        "    return embedding"
      ]
    },
    {
      "cell_type": "code",
      "execution_count": null,
      "metadata": {
        "id": "XonWs27QJeh1"
      },
      "outputs": [],
      "source": [
        "def clean(text):\n",
        "    \"\"\" Function to clean the text \"\"\"\n",
        "    text = text.lower()\n",
        "    text = re.sub(r'^https?:\\/\\/.*[\\r\\n]*', '', text, flags=re.MULTILINE)\n",
        "    texter = re.sub(r\"<br />\", \" \", text)\n",
        "    texter = re.sub(r\"&quot;\", \"\\\"\",texter)\n",
        "    texter = re.sub('&#39;', \"\\\"\", texter)\n",
        "    texter = re.sub('\\n', \" \", texter)\n",
        "    texter = re.sub(' u ',\" you \", texter)\n",
        "    texter = re.sub('`',\"\", texter)\n",
        "    texter = re.sub(' +', ' ', texter)\n",
        "    texter = re.sub(r\"(!)\\1+\", r\"!\", texter)\n",
        "    texter = re.sub(r\"(\\?)\\1+\", r\"?\", texter)\n",
        "    texter = re.sub('&amp;', 'and', texter)\n",
        "    texter = re.sub('\\r', ' ',texter)\n",
        "    \n",
        "    # Remove numbers from string\n",
        "    texter = re.sub(pattern=r\"[+-]?\\d+(?:\\.\\d+)?\", repl=\"\", string=texter, count=0, flags=0)\n",
        "    texter = texter.replace(\"  \", \" \")\n",
        "    clean = re.compile('<.*?>')\n",
        "    texter = texter.encode('ascii', 'ignore').decode('ascii')\n",
        "    texter = re.sub(clean, '', texter)\n",
        "    texter = re.sub(r'[^\\w\\s]', '', texter)\n",
        "    if texter == \"\":\n",
        "        texter = \"\"\n",
        "    return texter"
      ]
    },
    {
      "cell_type": "code",
      "execution_count": null,
      "metadata": {
        "id": "MA4HCwpEJeh2"
      },
      "outputs": [],
      "source": [
        "def transform(X, emb=\"LSTM\"):\n",
        "    embeddings = []\n",
        "    for item in X:\n",
        "        item = clean(item)\n",
        "        embedding = get_embeddings(item, emb)\n",
        "        embeddings.append(embedding)\n",
        "    \n",
        "    return embeddings"
      ]
    },
    {
      "cell_type": "code",
      "execution_count": null,
      "metadata": {
        "id": "XaUmR9hZJeh3"
      },
      "outputs": [],
      "source": [
        "inputs_file = \"./tweet.text\"\n",
        "labels_file = \"./tweet_labels.txt\"\n",
        "\n",
        "X = []\n",
        "with open(inputs_file, encoding='utf8') as f:\n",
        "    for line in f:\n",
        "        X.append(line)\n",
        "f.close()\n",
        "# print(len(X))\n",
        "\n",
        "y = []\n",
        "with open(labels_file, encoding='utf8') as f:\n",
        "    for line in f:\n",
        "        y.append(int(line))\n",
        "f.close()"
      ]
    },
    {
      "cell_type": "code",
      "execution_count": null,
      "metadata": {
        "id": "bCxy0YraJeh2"
      },
      "outputs": [],
      "source": [
        "# Hyperparameters\n",
        "num_epochs = 10\n",
        "batch_size = 128\n",
        "learning_rate = 1e-4\n",
        "dropout = 0.3"
      ]
    },
    {
      "cell_type": "code",
      "execution_count": null,
      "metadata": {
        "id": "qR_cp-hoJeh3"
      },
      "outputs": [],
      "source": [
        "X_dnn = transform(X, \"DNN\")\n",
        "X_train, X_test, y_train, y_test = train_test_split(X_dnn, y, test_size=0.15, random_state=42)\n",
        "\n",
        "X_tr = torch.tensor(X_train, dtype=torch.float).to('cuda')\n",
        "y_tr = torch.tensor(y_train).to('cuda')\n",
        "train = TensorDataset(X_tr, y_tr)\n",
        "trainloader = DataLoader(train, batch_size=batch_size)\n",
        "\n",
        "X_te = torch.tensor(X_test, dtype=torch.float).to('cuda')\n",
        "y_te = torch.tensor(y_test).to('cuda')\n",
        "test = TensorDataset(X_te, y_te)\n",
        "testloader = DataLoader(test)"
      ]
    },
    {
      "cell_type": "code",
      "execution_count": null,
      "metadata": {
        "id": "bSkjj0_Y_iFo"
      },
      "outputs": [],
      "source": [
        "class Net(nn.Module):\n",
        "    \n",
        "    def __init__(self):\n",
        "        super().__init__()\n",
        "        self.fc1 = nn.Linear(300, 500)\n",
        "        self.hidden1 = nn.Linear(500, 500)\n",
        "        self.hidden2 = nn.Linear(500, 500)\n",
        "        self.fc2 = nn.Linear(500, 20)\n",
        "        self.dropout = nn.Dropout(0.25)\n",
        "        \n",
        "        self.batchnorm1 = nn.BatchNorm1d(500)\n",
        "        self.batchnorm2 = nn.BatchNorm1d(500)\n",
        "        self.batchnorm3 = nn.BatchNorm1d(500)\n",
        "\n",
        "    def forward(self, x):\n",
        "        x = F.relu(self.fc1(x))\n",
        "        x = self.batchnorm1(x)\n",
        "        x = self.dropout(x)\n",
        "        x = F.relu(self.hidden1(x))\n",
        "        x = self.batchnorm2(x)\n",
        "        x = self.dropout(x)\n",
        "        x = F.relu(self.hidden2(x))\n",
        "        x = self.batchnorm3(x)\n",
        "        x = self.dropout(x)\n",
        "#         x = self.fc2(x)\n",
        "        x = F.log_softmax(self.fc2(x), dim=1)\n",
        "        return x\n",
        "\n",
        "net = Net().to('cuda')"
      ]
    },
    {
      "cell_type": "code",
      "execution_count": null,
      "metadata": {
        "id": "RsvoKzK7U2RP"
      },
      "outputs": [],
      "source": [
        "# Loss function\n",
        "criterion = nn.CrossEntropyLoss()\n",
        "\n",
        "# create your optimizer\n",
        "optimizer = optim.Adam(net.parameters(), lr=learning_rate)"
      ]
    },
    {
      "cell_type": "code",
      "execution_count": null,
      "metadata": {
        "id": "psbaXAZAV2v7",
        "outputId": "6946ab15-3b10-4664-f58f-73b39f612d1f",
        "colab": {
          "base_uri": "https://localhost:8080/"
        }
      },
      "outputs": [
        {
          "output_type": "stream",
          "name": "stdout",
          "text": [
            "Epoch [1/10], Step [500/2344], Loss: 2.7250\n",
            "Epoch [1/10], Step [1000/2344], Loss: 2.4957\n",
            "Epoch [1/10], Step [1500/2344], Loss: 2.4863\n",
            "Epoch [1/10], Step [2000/2344], Loss: 2.3954\n",
            "Epoch [2/10], Step [500/2344], Loss: 2.4862\n",
            "Epoch [2/10], Step [1000/2344], Loss: 2.3907\n",
            "Epoch [2/10], Step [1500/2344], Loss: 2.3560\n",
            "Epoch [2/10], Step [2000/2344], Loss: 2.3420\n",
            "Epoch [3/10], Step [500/2344], Loss: 2.4469\n",
            "Epoch [3/10], Step [1000/2344], Loss: 2.3505\n",
            "Epoch [3/10], Step [1500/2344], Loss: 2.2896\n",
            "Epoch [3/10], Step [2000/2344], Loss: 2.2777\n",
            "Epoch [4/10], Step [500/2344], Loss: 2.4041\n",
            "Epoch [4/10], Step [1000/2344], Loss: 2.3346\n",
            "Epoch [4/10], Step [1500/2344], Loss: 2.2825\n",
            "Epoch [4/10], Step [2000/2344], Loss: 2.2231\n",
            "Epoch [5/10], Step [500/2344], Loss: 2.4053\n",
            "Epoch [5/10], Step [1000/2344], Loss: 2.3195\n",
            "Epoch [5/10], Step [1500/2344], Loss: 2.2908\n",
            "Epoch [5/10], Step [2000/2344], Loss: 2.2691\n",
            "Epoch [6/10], Step [500/2344], Loss: 2.3677\n",
            "Epoch [6/10], Step [1000/2344], Loss: 2.2861\n",
            "Epoch [6/10], Step [1500/2344], Loss: 2.2555\n",
            "Epoch [6/10], Step [2000/2344], Loss: 2.1897\n",
            "Epoch [7/10], Step [500/2344], Loss: 2.3572\n",
            "Epoch [7/10], Step [1000/2344], Loss: 2.2624\n",
            "Epoch [7/10], Step [1500/2344], Loss: 2.2491\n",
            "Epoch [7/10], Step [2000/2344], Loss: 2.1967\n",
            "Epoch [8/10], Step [500/2344], Loss: 2.3891\n",
            "Epoch [8/10], Step [1000/2344], Loss: 2.3379\n",
            "Epoch [8/10], Step [1500/2344], Loss: 2.2177\n",
            "Epoch [8/10], Step [2000/2344], Loss: 2.2099\n",
            "Epoch [9/10], Step [500/2344], Loss: 2.3570\n",
            "Epoch [9/10], Step [1000/2344], Loss: 2.2407\n",
            "Epoch [9/10], Step [1500/2344], Loss: 2.2335\n",
            "Epoch [9/10], Step [2000/2344], Loss: 2.1549\n",
            "Epoch [10/10], Step [500/2344], Loss: 2.3185\n",
            "Epoch [10/10], Step [1000/2344], Loss: 2.1712\n",
            "Epoch [10/10], Step [1500/2344], Loss: 2.2639\n",
            "Epoch [10/10], Step [2000/2344], Loss: 2.1032\n"
          ]
        }
      ],
      "source": [
        "# Training\n",
        "net.train()\n",
        "training_loss = []\n",
        "for epoch in range(num_epochs):\n",
        "    for i, data in enumerate(trainloader):\n",
        "        inputs, labels = data\n",
        "\n",
        "        outputs = net(inputs)\n",
        "        loss = criterion(outputs, labels)\n",
        "        training_loss.append(loss.item())\n",
        "        \n",
        "        optimizer.zero_grad()\n",
        "        loss.backward()\n",
        "        optimizer.step()\n",
        "\n",
        "        if (i+1) % 500 == 0:\n",
        "            print ('Epoch [%d/%d], Step [%d/%d], Loss: %.4f'\n",
        "                   %(epoch+1, num_epochs, i+1, len(trainloader), loss.data))"
      ]
    },
    {
      "cell_type": "code",
      "execution_count": null,
      "metadata": {
        "colab": {
          "base_uri": "https://localhost:8080/"
        },
        "id": "z5kjmMppXtrH",
        "outputId": "47299269-a4c4-4375-eeec-d103b100b5c6"
      },
      "outputs": [
        {
          "output_type": "stream",
          "name": "stdout",
          "text": [
            "Accuracy of the model is: 32.04%\n"
          ]
        }
      ],
      "source": [
        "# Testing\n",
        "net.eval()\n",
        "outputs = net(X_te)\n",
        "\n",
        "_, predicted = torch.max(outputs, 1)\n",
        "\n",
        "total = y_te.size(0)\n",
        "correct = (predicted == y_te).sum()\n",
        "\n",
        "print(f'Accuracy of the model is: {100*correct/total:.2f}%')"
      ]
    },
    {
      "cell_type": "code",
      "source": [
        "fig = plt.figure()\n",
        "plt.plot(training_loss)\n",
        "plt.ylabel('Loss')\n",
        "plt.xlabel('Iterations')\n",
        "plt.show()"
      ],
      "metadata": {
        "colab": {
          "base_uri": "https://localhost:8080/",
          "height": 279
        },
        "id": "GenEZZuS_0md",
        "outputId": "fd70a4a8-ad3d-46c9-db37-feaaf0eda110"
      },
      "execution_count": null,
      "outputs": [
        {
          "output_type": "display_data",
          "data": {
            "text/plain": [
              "<Figure size 432x288 with 1 Axes>"
            ],
            "image/png": "[encoded data removed]"
          },
          "metadata": {
            "needs_background": "light"
          }
        }
      ]
    },
    {
      "cell_type": "code",
      "source": [
        ""
      ],
      "metadata": {
        "id": "G0MfStFuAdFX"
      },
      "execution_count": null,
      "outputs": []
    }
  ],
  "metadata": {
    "accelerator": "GPU",
    "colab": {
      "collapsed_sections": [],
      "name": "DNN-GloVe.ipynb",
      "provenance": [],
      "include_colab_link": true
    },
    "kernelspec": {
      "display_name": "Python 3 (ipykernel)",
      "language": "python",
      "name": "python3"
    },
    "language_info": {
      "codemirror_mode": {
        "name": "ipython",
        "version": 3
      },
      "file_extension": ".py",
      "mimetype": "text/x-python",
      "name": "python",
      "nbconvert_exporter": "python",
      "pygments_lexer": "ipython3",
      "version": "3.9.7"
    }
  },
  "nbformat": 4,
  "nbformat_minor": 0
}