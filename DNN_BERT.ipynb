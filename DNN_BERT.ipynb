{
  "cells": [
    {
      "cell_type": "markdown",
      "metadata": {
        "id": "view-in-github",
        "colab_type": "text"
      },
      "source": [
        "<a href=\"https://colab.research.google.com/github/diptisahu/Emoji-Prediction/blob/main/DNN_BERT.ipynb\" target=\"_parent\"><img src=\"https://colab.research.google.com/assets/colab-badge.svg\" alt=\"Open In Colab\"/></a>"
      ]
    },
    {
      "cell_type": "markdown",
      "source": [
        ""
      ],
      "metadata": {
        "id": "j_v6fg2S8HDH"
      }
    },
    {
      "cell_type": "code",
      "execution_count": null,
      "metadata": {
        "id": "0SjS9_VR_aCT"
      },
      "outputs": [],
      "source": [
        "import torch\n",
        "import torch.nn as nn\n",
        "import torch.nn.functional as F\n",
        "import torch.optim as optim\n",
        "from torch.utils.data import TensorDataset, DataLoader\n",
        "\n",
        "from sklearn.model_selection import train_test_split\n",
        "\n",
        "import re\n",
        "import pandas as pd\n",
        "import numpy as np"
      ]
    },
    {
      "cell_type": "code",
      "source": [
        "from google.colab import drive\n",
        "drive.mount('/content/drive')"
      ],
      "metadata": {
        "colab": {
          "base_uri": "https://localhost:8080/"
        },
        "id": "zstgMk8ebZDS",
        "outputId": "f89a7c9e-28c4-4315-f890-ec9a39e024f1"
      },
      "execution_count": null,
      "outputs": [
        {
          "output_type": "stream",
          "name": "stdout",
          "text": [
            "Drive already mounted at /content/drive; to attempt to forcibly remount, call drive.mount(\"/content/drive\", force_remount=True).\n"
          ]
        }
      ]
    },
    {
      "cell_type": "code",
      "source": [
        "%cd /content/drive/MyDrive/Github/"
      ],
      "metadata": {
        "colab": {
          "base_uri": "https://localhost:8080/"
        },
        "id": "SEM1Km2BbgqQ",
        "outputId": "c15285a0-0f92-495a-c366-386acf7ebba0"
      },
      "execution_count": null,
      "outputs": [
        {
          "output_type": "stream",
          "name": "stdout",
          "text": [
            "/content/drive/MyDrive/Github\n"
          ]
        }
      ]
    },
    {
      "cell_type": "code",
      "source": [
        "!pip install sentence-transformers"
      ],
      "metadata": {
        "id": "bKB4Filybovm",
        "colab": {
          "base_uri": "https://localhost:8080/"
        },
        "outputId": "a68cbaa3-eb77-4168-a986-39f0d419e422"
      },
      "execution_count": null,
      "outputs": [
        {
          "output_type": "stream",
          "name": "stdout",
          "text": [
            "Requirement already satisfied: sentence-transformers in /usr/local/lib/python3.7/dist-packages (2.2.0)\n",
            "Requirement already satisfied: scikit-learn in /usr/local/lib/python3.7/dist-packages (from sentence-transformers) (1.0.2)\n",
            "Requirement already satisfied: nltk in /usr/local/lib/python3.7/dist-packages (from sentence-transformers) (3.2.5)\n",
            "Requirement already satisfied: torchvision in /usr/local/lib/python3.7/dist-packages (from sentence-transformers) (0.11.1+cu111)\n",
            "Requirement already satisfied: torch>=1.6.0 in /usr/local/lib/python3.7/dist-packages (from sentence-transformers) (1.10.0+cu111)\n",
            "Requirement already satisfied: tqdm in /usr/local/lib/python3.7/dist-packages (from sentence-transformers) (4.63.0)\n",
            "Requirement already satisfied: scipy in /usr/local/lib/python3.7/dist-packages (from sentence-transformers) (1.4.1)\n",
            "Requirement already satisfied: sentencepiece in /usr/local/lib/python3.7/dist-packages (from sentence-transformers) (0.1.96)\n",
            "Requirement already satisfied: huggingface-hub in /usr/local/lib/python3.7/dist-packages (from sentence-transformers) (0.4.0)\n",
            "Requirement already satisfied: transformers<5.0.0,>=4.6.0 in /usr/local/lib/python3.7/dist-packages (from sentence-transformers) (4.17.0)\n",
            "Requirement already satisfied: numpy in /usr/local/lib/python3.7/dist-packages (from sentence-transformers) (1.21.5)\n",
            "Requirement already satisfied: typing-extensions in /usr/local/lib/python3.7/dist-packages (from torch>=1.6.0->sentence-transformers) (3.10.0.2)\n",
            "Requirement already satisfied: pyyaml>=5.1 in /usr/local/lib/python3.7/dist-packages (from transformers<5.0.0,>=4.6.0->sentence-transformers) (6.0)\n",
            "Requirement already satisfied: regex!=2019.12.17 in /usr/local/lib/python3.7/dist-packages (from transformers<5.0.0,>=4.6.0->sentence-transformers) (2019.12.20)\n",
            "Requirement already satisfied: filelock in /usr/local/lib/python3.7/dist-packages (from transformers<5.0.0,>=4.6.0->sentence-transformers) (3.6.0)\n",
            "Requirement already satisfied: requests in /usr/local/lib/python3.7/dist-packages (from transformers<5.0.0,>=4.6.0->sentence-transformers) (2.23.0)\n",
            "Requirement already satisfied: sacremoses in /usr/local/lib/python3.7/dist-packages (from transformers<5.0.0,>=4.6.0->sentence-transformers) (0.0.49)\n",
            "Requirement already satisfied: tokenizers!=0.11.3,>=0.11.1 in /usr/local/lib/python3.7/dist-packages (from transformers<5.0.0,>=4.6.0->sentence-transformers) (0.11.6)\n",
            "Requirement already satisfied: importlib-metadata in /usr/local/lib/python3.7/dist-packages (from transformers<5.0.0,>=4.6.0->sentence-transformers) (4.11.2)\n",
            "Requirement already satisfied: packaging>=20.0 in /usr/local/lib/python3.7/dist-packages (from transformers<5.0.0,>=4.6.0->sentence-transformers) (21.3)\n",
            "Requirement already satisfied: pyparsing!=3.0.5,>=2.0.2 in /usr/local/lib/python3.7/dist-packages (from packaging>=20.0->transformers<5.0.0,>=4.6.0->sentence-transformers) (3.0.7)\n",
            "Requirement already satisfied: zipp>=0.5 in /usr/local/lib/python3.7/dist-packages (from importlib-metadata->transformers<5.0.0,>=4.6.0->sentence-transformers) (3.7.0)\n",
            "Requirement already satisfied: six in /usr/local/lib/python3.7/dist-packages (from nltk->sentence-transformers) (1.15.0)\n",
            "Requirement already satisfied: idna<3,>=2.5 in /usr/local/lib/python3.7/dist-packages (from requests->transformers<5.0.0,>=4.6.0->sentence-transformers) (2.10)\n",
            "Requirement already satisfied: chardet<4,>=3.0.2 in /usr/local/lib/python3.7/dist-packages (from requests->transformers<5.0.0,>=4.6.0->sentence-transformers) (3.0.4)\n",
            "Requirement already satisfied: certifi>=2017.4.17 in /usr/local/lib/python3.7/dist-packages (from requests->transformers<5.0.0,>=4.6.0->sentence-transformers) (2021.10.8)\n",
            "Requirement already satisfied: urllib3!=1.25.0,!=1.25.1,<1.26,>=1.21.1 in /usr/local/lib/python3.7/dist-packages (from requests->transformers<5.0.0,>=4.6.0->sentence-transformers) (1.24.3)\n",
            "Requirement already satisfied: joblib in /usr/local/lib/python3.7/dist-packages (from sacremoses->transformers<5.0.0,>=4.6.0->sentence-transformers) (1.1.0)\n",
            "Requirement already satisfied: click in /usr/local/lib/python3.7/dist-packages (from sacremoses->transformers<5.0.0,>=4.6.0->sentence-transformers) (7.1.2)\n",
            "Requirement already satisfied: threadpoolctl>=2.0.0 in /usr/local/lib/python3.7/dist-packages (from scikit-learn->sentence-transformers) (3.1.0)\n",
            "Requirement already satisfied: pillow!=8.3.0,>=5.3.0 in /usr/local/lib/python3.7/dist-packages (from torchvision->sentence-transformers) (7.1.2)\n"
          ]
        }
      ]
    },
    {
      "cell_type": "code",
      "execution_count": null,
      "metadata": {
        "id": "UF7krt-gQXTl"
      },
      "outputs": [],
      "source": [
        "def clean(text):\n",
        "    \"\"\" Function to clean the text \"\"\"\n",
        "    text = text.lower()\n",
        "    text = re.sub(r'^https?:\\/\\/.*[\\r\\n]*', '', text, flags=re.MULTILINE)\n",
        "    texter = re.sub(r\"<br />\", \" \", text)\n",
        "    texter = re.sub(r\"&quot;\", \"\\\"\",texter)\n",
        "    texter = re.sub('&#39;', \"\\\"\", texter)\n",
        "    texter = re.sub('\\n', \" \", texter)\n",
        "    texter = re.sub(' u ',\" you \", texter)\n",
        "    texter = re.sub('`',\"\", texter)\n",
        "    texter = re.sub(' +', ' ', texter)\n",
        "    texter = re.sub(r\"(!)\\1+\", r\"!\", texter)\n",
        "    texter = re.sub(r\"(\\?)\\1+\", r\"?\", texter)\n",
        "    texter = re.sub('&amp;', 'and', texter)\n",
        "    texter = re.sub('\\r', ' ',texter)\n",
        "    \n",
        "    # Remove numbers from string\n",
        "    texter = re.sub(pattern=r\"[+-]?\\d+(?:\\.\\d+)?\", repl=\"\", string=texter, count=0, flags=0)\n",
        "    texter = texter.replace(\"  \", \" \")\n",
        "    clean = re.compile('<.*?>')\n",
        "    texter = texter.encode('ascii', 'ignore').decode('ascii')\n",
        "    texter = re.sub(clean, '', texter)\n",
        "    texter = re.sub(r'[^\\w\\s]', '', texter)\n",
        "    if texter == \"\":\n",
        "        texter = \"\"\n",
        "    return texter"
      ]
    },
    {
      "cell_type": "code",
      "execution_count": null,
      "metadata": {
        "id": "8hrQxYSgQXTo"
      },
      "outputs": [],
      "source": [
        "# inputs_file = \"./tweets_training.txt\"\n",
        "# labels_file = \"./tweets_training_labels.txt\"\n",
        "\n",
        "inputs_file = \"./tweet.text\"\n",
        "labels_file = \"./tweet_labels.txt\"\n",
        "\n",
        "X = []\n",
        "with open(inputs_file, encoding='utf8') as f:\n",
        "    for line in f:\n",
        "        X.append(line)\n",
        "f.close()\n",
        "# print(len(X))\n",
        "\n",
        "y = []\n",
        "with open(labels_file, encoding='utf8') as f:\n",
        "    for line in f:\n",
        "        y.append(int(line))\n",
        "f.close()\n",
        "\n"
      ]
    },
    {
      "cell_type": "code",
      "source": [
        "# X = X[:1000]\n",
        "# y = y[:1000]"
      ],
      "metadata": {
        "id": "TVPwoVeIuYs5"
      },
      "execution_count": null,
      "outputs": []
    },
    {
      "cell_type": "code",
      "source": [
        "cleaned_x = []\n",
        "for line in X:\n",
        "  cleaned_x.append(clean(line))"
      ],
      "metadata": {
        "id": "NFff5dXucI2E"
      },
      "execution_count": null,
      "outputs": []
    },
    {
      "cell_type": "code",
      "source": [
        "from sentence_transformers import SentenceTransformer\n",
        "sbert_model = SentenceTransformer('bert-base-nli-mean-tokens', device='cuda')"
      ],
      "metadata": {
        "id": "Pr6zdhtocePe"
      },
      "execution_count": null,
      "outputs": []
    },
    {
      "cell_type": "code",
      "source": [
        "sentence_embeddings = sbert_model.encode(cleaned_x, show_progress_bar=True)\n",
        "raw_X = sentence_embeddings"
      ],
      "metadata": {
        "colab": {
          "base_uri": "https://localhost:8080/",
          "height": 49,
          "referenced_widgets": [
            "53f2d0ad88794edc9ce7e97702f67f46",
            "385f838615054228a26c039b248a975a",
            "de7e644b5d404498a1c55b83c3ba5364",
            "75825e00b6c34eaea53fc6144b8f299a",
            "2116913ca3e94796b3b2d2d5c8b96b98",
            "a411971f2ef64cecb4a945fef3bb2b53",
            "ddeb0531294043f2af27b3f9c932d54a",
            "28c1475cf6934c36a51fc1fb603e0c5f",
            "adb6d2ac7df941fcbaba7476ef7b4fda",
            "08bee62c12d24e7891c236a87f95be21",
            "269297205f534acfb70cd2728e44f1cb"
          ]
        },
        "id": "OWwxJJOhcqDq",
        "outputId": "cd46459b-7396-46d0-e731-39f8cfa69a57"
      },
      "execution_count": null,
      "outputs": [
        {
          "output_type": "display_data",
          "data": {
            "text/plain": [
              "Batches:   0%|          | 0/11028 [00:00<?, ?it/s]"
            ],
            "application/vnd.jupyter.widget-view+json": {
              "version_major": 2,
              "version_minor": 0,
              "model_id": "53f2d0ad88794edc9ce7e97702f67f46"
            }
          },
          "metadata": {}
        }
      ]
    },
    {
      "cell_type": "code",
      "source": [
        ""
      ],
      "metadata": {
        "id": "s--4Y0uwGbOt"
      },
      "execution_count": null,
      "outputs": []
    },
    {
      "cell_type": "code",
      "source": [
        "# 0\n",
        "# 0.01\n",
        "# 0.02\n",
        "# 0.05\n",
        "# 0.1\n",
        "# 0.2\n",
        "# 0.3\n",
        "# 0.5\n",
        "print(raw_X.shape)\n",
        "weighing_scale = 0.1\n",
        "new_item = []\n",
        "for item in raw_X:\n",
        "  noise = np.random.randn(768) * weighing_scale\n",
        "  new_item.append(noise + item)\n",
        "\n",
        "X = np.array(new_item)\n",
        "print(X.shape)"
      ],
      "metadata": {
        "colab": {
          "base_uri": "https://localhost:8080/"
        },
        "id": "CXKviqY34Y7A",
        "outputId": "38cd10ec-d9ea-4e35-9f66-13532e30150b"
      },
      "execution_count": null,
      "outputs": [
        {
          "output_type": "stream",
          "name": "stdout",
          "text": [
            "(352867, 768)\n",
            "(352867, 768)\n"
          ]
        }
      ]
    },
    {
      "cell_type": "code",
      "execution_count": null,
      "metadata": {
        "id": "wAT-LUhCQXTn"
      },
      "outputs": [],
      "source": [
        "# Hyperparameters\n",
        "# num_epochs = 10\n",
        "# batch_size = 64\n",
        "# learning_rate = 0.0001\n",
        "# dropout = 0.25\n",
        "\n",
        "num_epochs = 10\n",
        "batch_size = 256\n",
        "learning_rate = 0.0001\n",
        "dropout = 0.25"
      ]
    },
    {
      "cell_type": "code",
      "execution_count": null,
      "metadata": {
        "id": "m77ISC4uQXTo"
      },
      "outputs": [],
      "source": [
        "# X = transform(X, \"DNN\")\n",
        "X_train, X_test, y_train, y_test = train_test_split(X, y, test_size=0.15, random_state=42)\n",
        "\n",
        "X_tr = torch.tensor(X_train, dtype=torch.float)\n",
        "y_tr = torch.tensor(y_train)\n",
        "train = TensorDataset(X_tr, y_tr)\n",
        "trainloader = DataLoader(train, batch_size=batch_size)\n",
        "\n",
        "X_te = torch.tensor(X_test, dtype=torch.float)\n",
        "y_te = torch.tensor(y_test)\n",
        "test = TensorDataset(X_te, y_te)\n",
        "testloader = DataLoader(test)"
      ]
    },
    {
      "cell_type": "code",
      "execution_count": null,
      "metadata": {
        "id": "bSkjj0_Y_iFo"
      },
      "outputs": [],
      "source": [
        "class Net(nn.Module):\n",
        "    \n",
        "    def __init__(self):\n",
        "        super().__init__()\n",
        "        self.fc1 = nn.Linear(768, 1000)\n",
        "        self.hidden1 = nn.Linear(1000, 500)\n",
        "        self.hidden2 = nn.Linear(500, 350)\n",
        "\n",
        "        self.fc2 = nn.Linear(350, 20)\n",
        "        self.dropout = nn.Dropout(0.25)\n",
        "        \n",
        "        self.batchnorm1 = nn.BatchNorm1d(1000)\n",
        "        self.batchnorm2 = nn.BatchNorm1d(500)\n",
        "        self.batchnorm3 = nn.BatchNorm1d(350)\n",
        "\n",
        "\n",
        "    def forward(self, x):\n",
        "        x = F.relu(self.fc1(x))\n",
        "        x = self.batchnorm1(x)\n",
        "        x = self.dropout(x)\n",
        "        x = F.relu(self.hidden1(x))\n",
        "        x = self.batchnorm2(x)\n",
        "        x = self.dropout(x)\n",
        "        x = F.relu(self.hidden2(x))\n",
        "        x = self.batchnorm3(x)\n",
        "        x = self.dropout(x)\n",
        "        x = F.log_softmax(self.fc2(x), dim=1)\n",
        "        return x\n",
        "\n",
        "net = Net().to('cuda')"
      ]
    },
    {
      "cell_type": "code",
      "execution_count": null,
      "metadata": {
        "id": "RsvoKzK7U2RP"
      },
      "outputs": [],
      "source": [
        "# Loss function\n",
        "criterion = nn.CrossEntropyLoss()\n",
        "\n",
        "# create your optimizer\n",
        "optimizer = optim.Adam(net.parameters(), lr=learning_rate)"
      ]
    },
    {
      "cell_type": "code",
      "execution_count": null,
      "metadata": {
        "id": "psbaXAZAV2v7",
        "colab": {
          "base_uri": "https://localhost:8080/"
        },
        "outputId": "42554f11-2868-4775-ee4e-47ef5c9422b4"
      },
      "outputs": [
        {
          "output_type": "stream",
          "name": "stdout",
          "text": [
            "Epoch [1/10], Step [500/1172], Loss: 2.5231\n",
            "Epoch [1/10], Step [1000/1172], Loss: 2.4626\n",
            "Epoch [2/10], Step [500/1172], Loss: 2.3931\n",
            "Epoch [2/10], Step [1000/1172], Loss: 2.2955\n",
            "Epoch [3/10], Step [500/1172], Loss: 2.3274\n",
            "Epoch [3/10], Step [1000/1172], Loss: 2.3053\n",
            "Epoch [4/10], Step [500/1172], Loss: 2.3168\n",
            "Epoch [4/10], Step [1000/1172], Loss: 2.2480\n",
            "Epoch [5/10], Step [500/1172], Loss: 2.2874\n",
            "Epoch [5/10], Step [1000/1172], Loss: 2.2532\n",
            "Epoch [6/10], Step [500/1172], Loss: 2.2579\n",
            "Epoch [6/10], Step [1000/1172], Loss: 2.2177\n",
            "Epoch [7/10], Step [500/1172], Loss: 2.2164\n",
            "Epoch [7/10], Step [1000/1172], Loss: 2.2250\n",
            "Epoch [8/10], Step [500/1172], Loss: 2.2233\n",
            "Epoch [8/10], Step [1000/1172], Loss: 2.1680\n",
            "Epoch [9/10], Step [500/1172], Loss: 2.1925\n",
            "Epoch [9/10], Step [1000/1172], Loss: 2.1799\n",
            "Epoch [10/10], Step [500/1172], Loss: 2.2058\n",
            "Epoch [10/10], Step [1000/1172], Loss: 2.1412\n"
          ]
        }
      ],
      "source": [
        "# Training\n",
        "LS = []\n",
        "LSsmall = []\n",
        "net.train()\n",
        "for epoch in range(num_epochs):\n",
        "    for i, data in enumerate(trainloader):\n",
        "        inputs, labels = data\n",
        "        inputs = inputs.to('cuda')\n",
        "        labels = labels.to('cuda')\n",
        "\n",
        "        outputs = net(inputs)\n",
        "        loss = criterion(outputs, labels)\n",
        "        \n",
        "        optimizer.zero_grad()\n",
        "        loss.backward()\n",
        "        optimizer.step()\n",
        "        LS.append(loss.data)\n",
        "\n",
        "        if (i+1) % 500 == 0:\n",
        "            LSsmall.append(loss.data)\n",
        "            print ('Epoch [%d/%d], Step [%d/%d], Loss: %.4f'\n",
        "                   %(epoch+1, num_epochs, i+1, len(trainloader), loss.data))"
      ]
    },
    {
      "cell_type": "code",
      "execution_count": null,
      "metadata": {
        "colab": {
          "base_uri": "https://localhost:8080/"
        },
        "id": "z5kjmMppXtrH",
        "outputId": "0875addd-6b80-4af4-d1d9-b1e77a77209a"
      },
      "outputs": [
        {
          "output_type": "stream",
          "name": "stdout",
          "text": [
            "Accuracy of the model is: 32.52%\n"
          ]
        }
      ],
      "source": [
        "# Testing\n",
        "total, correct = 0, 0\n",
        "\n",
        "net.eval()\n",
        "X_te = X_te.to('cuda')\n",
        "y_te = y_te.to('cuda')\n",
        "\n",
        "outputs = net(X_te)\n",
        "\n",
        "_, predicted = torch.max(outputs, 1)\n",
        "\n",
        "total += y_te.size(0)\n",
        "correct += (predicted == y_te).sum()\n",
        "\n",
        "print(f'Accuracy of the model is: {100*correct/total:.2f}%')"
      ]
    },
    {
      "cell_type": "code",
      "source": [
        "print(LSsmall)\n",
        "\n",
        "LSsmallnew = [x.cpu() for x in LSsmall]"
      ],
      "metadata": {
        "colab": {
          "base_uri": "https://localhost:8080/"
        },
        "id": "GQ7_l7lggJP7",
        "outputId": "2222d376-1e97-4f5d-f487-3954210a1114"
      },
      "execution_count": null,
      "outputs": [
        {
          "output_type": "stream",
          "name": "stdout",
          "text": [
            "[tensor(2.5058, device='cuda:0'), tensor(2.4190, device='cuda:0'), tensor(2.3720, device='cuda:0'), tensor(2.3192, device='cuda:0'), tensor(2.2812, device='cuda:0'), tensor(2.2885, device='cuda:0'), tensor(2.2670, device='cuda:0'), tensor(2.2436, device='cuda:0'), tensor(2.2770, device='cuda:0'), tensor(2.2372, device='cuda:0'), tensor(2.2632, device='cuda:0'), tensor(2.2127, device='cuda:0'), tensor(2.2367, device='cuda:0'), tensor(2.2002, device='cuda:0'), tensor(2.2220, device='cuda:0'), tensor(2.1956, device='cuda:0'), tensor(2.2017, device='cuda:0'), tensor(2.1781, device='cuda:0'), tensor(2.1742, device='cuda:0'), tensor(2.1638, device='cuda:0')]\n"
          ]
        }
      ]
    },
    {
      "cell_type": "code",
      "source": [
        "\n",
        "LSnew = [x.cpu() for x in LS]"
      ],
      "metadata": {
        "id": "WnDhakUugd86"
      },
      "execution_count": null,
      "outputs": []
    },
    {
      "cell_type": "code",
      "source": [
        "from matplotlib import pyplot as plt\n",
        "\n",
        "plt.plot(LSsmallnew)"
      ],
      "metadata": {
        "colab": {
          "base_uri": "https://localhost:8080/",
          "height": 282
        },
        "id": "7xXCzG6Off-C",
        "outputId": "75f199d1-84db-41c7-d94f-ddb291b701d5"
      },
      "execution_count": null,
      "outputs": [
        {
          "output_type": "execute_result",
          "data": {
            "text/plain": [
              "[<matplotlib.lines.Line2D at 0x7f4044c53190>]"
            ]
          },
          "metadata": {},
          "execution_count": 23
        },
        {
          "output_type": "display_data",
          "data": {
            "text/plain": [
              "<Figure size 432x288 with 1 Axes>"
            ],
            "image/png": "[encoded data removed]"
          },
          "metadata": {
            "needs_background": "light"
          }
        }
      ]
    },
    {
      "cell_type": "code",
      "source": [
        "from matplotlib import pyplot as plt\n",
        "\n",
        "plt.plot(LSnew)\n",
        "plt.xlabel('Iterations')\n",
        "plt.ylabel('Loss')"
      ],
      "metadata": {
        "colab": {
          "base_uri": "https://localhost:8080/",
          "height": 296
        },
        "id": "ZgThsM2RggzW",
        "outputId": "d85f40aa-dbde-42ac-aab6-8fa504544e0d"
      },
      "execution_count": null,
      "outputs": [
        {
          "output_type": "execute_result",
          "data": {
            "text/plain": [
              "Text(0, 0.5, 'Loss')"
            ]
          },
          "metadata": {},
          "execution_count": 27
        },
        {
          "output_type": "display_data",
          "data": {
            "text/plain": [
              "<Figure size 432x288 with 1 Axes>"
            ],
            "image/png": "[encoded data removed]"
          },
          "metadata": {
            "needs_background": "light"
          }
        }
      ]
    },
    {
      "cell_type": "code",
      "source": [
        "X.shape"
      ],
      "metadata": {
        "colab": {
          "base_uri": "https://localhost:8080/"
        },
        "id": "u8BgBTfwvZJd",
        "outputId": "c5f68d61-9018-460a-c871-81ac219f8aa3"
      },
      "execution_count": null,
      "outputs": [
        {
          "output_type": "execute_result",
          "data": {
            "text/plain": [
              "(352867, 768)"
            ]
          },
          "metadata": {},
          "execution_count": 29
        }
      ]
    },
    {
      "cell_type": "code",
      "source": [
        "X_lstm = X.reshape(X.shape[0], 1, X.shape[1])\n",
        "X_lstm.shape"
      ],
      "metadata": {
        "colab": {
          "base_uri": "https://localhost:8080/"
        },
        "id": "0yJli-UQu0bq",
        "outputId": "b2aaa3ef-d99b-49e0-c886-a879adfc779a"
      },
      "execution_count": null,
      "outputs": [
        {
          "output_type": "execute_result",
          "data": {
            "text/plain": [
              "(352867, 1, 768)"
            ]
          },
          "metadata": {},
          "execution_count": 30
        }
      ]
    },
    {
      "cell_type": "code",
      "execution_count": null,
      "metadata": {
        "id": "Ct-_tUmKQXTt"
      },
      "outputs": [],
      "source": [
        "# Hyperparameters\n",
        "num_epochs = 10\n",
        "batch_size = 256\n",
        "learning_rate = 0.0005\n",
        "dropout = 0.5"
      ]
    },
    {
      "cell_type": "code",
      "execution_count": null,
      "metadata": {
        "id": "sXs8lgrIa09X"
      },
      "outputs": [],
      "source": [
        "class LSTM(nn.Module): \n",
        "    def __init__(self, num_classes, input_size, hidden_size, num_layers, seq_length, dropout):\n",
        "        super(LSTM, self).__init__()\n",
        "        self.num_classes = num_classes #number of classes\n",
        "        self.num_layers = num_layers #number of layers\n",
        "        self.input_size = input_size #input size\n",
        "        self.hidden_size = hidden_size #hidden state\n",
        "        self.seq_length = seq_length #sequence length\n",
        "\n",
        "        self.lstm = nn.LSTM(input_size=input_size, hidden_size=hidden_size,\n",
        "                          num_layers=num_layers, dropout=dropout, batch_first=True).to('cuda') #lstm\n",
        "        self.fc1 =  nn.Linear(hidden_size, 128) #fully connected 1\n",
        "        self.fc2 = nn.Linear(128, num_classes) #fully connected last layer\n",
        "\n",
        "    def forward(self, x):\n",
        "        h_0 = torch.zeros(self.num_layers, x.size(0), self.hidden_size).to('cuda') #hidden state\n",
        "        c_0 = torch.zeros(self.num_layers, x.size(0), self.hidden_size).to('cuda') \n",
        "        \n",
        "        # Propagate input through LSTM\n",
        "        x, _ = self.lstm(x, (h_0, c_0)) #lstm with input, hidden, and internal state\n",
        "        \n",
        "        # Flatten lstm output\n",
        "        x = x[:, -1, :]\n",
        "        \n",
        "        x = F.relu(self.fc1(x))\n",
        "        x = F.softmax(self.fc2(x), dim=1)\n",
        "        return x\n",
        "\n",
        "lstm = LSTM(20, 768, 128, 2, 768, dropout).to('cuda')"
      ]
    },
    {
      "cell_type": "code",
      "execution_count": null,
      "metadata": {
        "colab": {
          "base_uri": "https://localhost:8080/"
        },
        "id": "nvPfO5jDQXTs",
        "outputId": "0c136c41-7116-485d-ba48-60e51f8c9ffd"
      },
      "outputs": [
        {
          "output_type": "stream",
          "name": "stdout",
          "text": [
            "299936\n",
            "torch.Size([299936, 1, 768])\n"
          ]
        }
      ],
      "source": [
        "## LSTM\n",
        "# X = transform(X)\n",
        "X_train, X_test, y_train, y_test = train_test_split(X_lstm, y, test_size=0.15, random_state=42)\n",
        "\n",
        "\n",
        "X_tr = torch.tensor(X_train, dtype=torch.float)\n",
        "y_tr = torch.tensor(y_train)\n",
        "train = TensorDataset(X_tr, y_tr)\n",
        "X_tr = X_tr.to(device='cuda')\n",
        "y_tr = y_tr.to(device='cuda')\n",
        "trainloader = DataLoader(train, batch_size=batch_size)\n",
        "\n",
        "X_te = torch.tensor(X_test, dtype=torch.float)\n",
        "y_te = torch.tensor(y_test)\n",
        "X_te = X_te.to(device='cuda')\n",
        "y_te = y_te.to(device='cuda')\n",
        "test = TensorDataset(X_te, y_te)\n",
        "testloader = DataLoader(test)\n",
        "\n",
        "print(len(y_tr))\n",
        "print(X_tr.size())"
      ]
    },
    {
      "cell_type": "code",
      "execution_count": null,
      "metadata": {
        "id": "YosBv8FHQXTu"
      },
      "outputs": [],
      "source": [
        "# Loss function\n",
        "criterion = nn.CrossEntropyLoss()\n",
        "\n",
        "# create your optimizer\n",
        "optimizer = optim.Adam(lstm.parameters(), lr=learning_rate)"
      ]
    },
    {
      "cell_type": "code",
      "execution_count": null,
      "metadata": {
        "colab": {
          "base_uri": "https://localhost:8080/"
        },
        "id": "9NPbFU0lQXTu",
        "outputId": "973545ad-3dff-45e0-f037-53ccc9db197d"
      },
      "outputs": [
        {
          "output_type": "stream",
          "name": "stdout",
          "text": [
            "Epoch [1/10], Step [250/1171], Loss: 2.8282\n",
            "Epoch [1/10], Step [500/1171], Loss: 2.8541\n",
            "Epoch [1/10], Step [750/1171], Loss: 2.8476\n",
            "Epoch [1/10], Step [1000/1171], Loss: 2.7775\n",
            "Epoch [2/10], Step [250/1171], Loss: 2.7926\n",
            "Epoch [2/10], Step [500/1171], Loss: 2.8464\n",
            "Epoch [2/10], Step [750/1171], Loss: 2.8333\n",
            "Epoch [2/10], Step [1000/1171], Loss: 2.7729\n",
            "Epoch [3/10], Step [250/1171], Loss: 2.7657\n",
            "Epoch [3/10], Step [500/1171], Loss: 2.8247\n",
            "Epoch [3/10], Step [750/1171], Loss: 2.8083\n",
            "Epoch [3/10], Step [1000/1171], Loss: 2.7650\n",
            "Epoch [4/10], Step [250/1171], Loss: 2.7647\n",
            "Epoch [4/10], Step [500/1171], Loss: 2.8238\n",
            "Epoch [4/10], Step [750/1171], Loss: 2.8212\n",
            "Epoch [4/10], Step [1000/1171], Loss: 2.7698\n",
            "Epoch [5/10], Step [250/1171], Loss: 2.7710\n",
            "Epoch [5/10], Step [500/1171], Loss: 2.8168\n",
            "Epoch [5/10], Step [750/1171], Loss: 2.8213\n",
            "Epoch [5/10], Step [1000/1171], Loss: 2.7652\n",
            "Epoch [6/10], Step [250/1171], Loss: 2.7573\n",
            "Epoch [6/10], Step [500/1171], Loss: 2.8173\n",
            "Epoch [6/10], Step [750/1171], Loss: 2.8195\n",
            "Epoch [6/10], Step [1000/1171], Loss: 2.7734\n",
            "Epoch [7/10], Step [250/1171], Loss: 2.7525\n",
            "Epoch [7/10], Step [500/1171], Loss: 2.8123\n",
            "Epoch [7/10], Step [750/1171], Loss: 2.8123\n",
            "Epoch [7/10], Step [1000/1171], Loss: 2.7596\n",
            "Epoch [8/10], Step [250/1171], Loss: 2.7652\n",
            "Epoch [8/10], Step [500/1171], Loss: 2.8033\n",
            "Epoch [8/10], Step [750/1171], Loss: 2.8055\n",
            "Epoch [8/10], Step [1000/1171], Loss: 2.7605\n",
            "Epoch [9/10], Step [250/1171], Loss: 2.7614\n",
            "Epoch [9/10], Step [500/1171], Loss: 2.7971\n",
            "Epoch [9/10], Step [750/1171], Loss: 2.8109\n",
            "Epoch [9/10], Step [1000/1171], Loss: 2.7675\n",
            "Epoch [10/10], Step [250/1171], Loss: 2.7699\n",
            "Epoch [10/10], Step [500/1171], Loss: 2.8083\n",
            "Epoch [10/10], Step [750/1171], Loss: 2.7999\n",
            "Epoch [10/10], Step [1000/1171], Loss: 2.7707\n"
          ]
        }
      ],
      "source": [
        "# Training\n",
        "# lstm = lstm.to(device=\"cuda\")\n",
        "# trainloader.to(device=\"cuda\")\n",
        "for epoch in range(num_epochs):\n",
        "    running_loss = 0\n",
        "    for i, data in enumerate(trainloader):\n",
        "        inputs, labels = data\n",
        "        inputs = inputs.to('cuda')\n",
        "        labels = labels.to('cuda')\n",
        "\n",
        "        outputs = lstm(inputs)\n",
        "        loss = criterion(outputs, labels)\n",
        "\n",
        "        loss.backward()\n",
        "        optimizer.step()\n",
        "\n",
        "        optimizer.zero_grad()\n",
        "\n",
        "        running_loss += loss.item()\n",
        "        \n",
        "        if (i+1) % 250 == 0:\n",
        "            print ('Epoch [%d/%d], Step [%d/%d], Loss: %.4f'\n",
        "                   %(epoch+1, num_epochs, i+1, len(X_tr)//batch_size, loss.data))"
      ]
    },
    {
      "cell_type": "code",
      "execution_count": null,
      "metadata": {
        "id": "a61BEEoKQXTw",
        "colab": {
          "base_uri": "https://localhost:8080/"
        },
        "outputId": "31ddd4a2-fa47-4902-88d1-a9bc5383759e"
      },
      "outputs": [
        {
          "output_type": "stream",
          "name": "stdout",
          "text": [
            "Accuracy of the model is: 26.93%\n"
          ]
        }
      ],
      "source": [
        "# Testing\n",
        "total, correct = 0, 0\n",
        "with torch.no_grad():\n",
        "    for data in testloader:\n",
        "        inputs, labels = data\n",
        "        inputs = inputs.to('cuda')\n",
        "        labels = labels.to('cuda')\n",
        "\n",
        "        outputs = lstm(inputs)\n",
        "\n",
        "        _, predicted = torch.max(outputs, 1)\n",
        "\n",
        "        total += labels.size(0)\n",
        "        correct += (predicted == labels).sum()\n",
        "\n",
        "print(f'Accuracy of the model is: {100*correct/total:.2f}%')"
      ]
    },
    {
      "cell_type": "code",
      "source": [
        ""
      ],
      "metadata": {
        "id": "cmbK0FJ6XIN_"
      },
      "execution_count": null,
      "outputs": []
    }
  ],
  "metadata": {
    "accelerator": "GPU",
    "colab": {
      "collapsed_sections": [],
      "name": "DNN-BERT.ipynb",
      "provenance": [],
      "include_colab_link": true
    },
    "kernelspec": {
      "display_name": "Python 3 (ipykernel)",
      "language": "python",
      "name": "python3"
    },
    "language_info": {
      "codemirror_mode": {
        "name": "ipython",
        "version": 3
      },
      "file_extension": ".py",
      "mimetype": "text/x-python",
      "name": "python",
      "nbconvert_exporter": "python",
      "pygments_lexer": "ipython3",
      "version": "3.9.7"
    },
    "widgets": {
      "application/vnd.jupyter.widget-state+json": {
        "53f2d0ad88794edc9ce7e97702f67f46": {
          "model_module": "@jupyter-widgets/controls",
          "model_name": "HBoxModel",
          "model_module_version": "1.5.0",
          "state": {
            "_dom_classes": [],
            "_model_module": "@jupyter-widgets/controls",
            "_model_module_version": "1.5.0",
            "_model_name": "HBoxModel",
            "_view_count": null,
            "_view_module": "@jupyter-widgets/controls",
            "_view_module_version": "1.5.0",
            "_view_name": "HBoxView",
            "box_style": "",
            "children": [
              "IPY_MODEL_385f838615054228a26c039b248a975a",
              "IPY_MODEL_de7e644b5d404498a1c55b83c3ba5364",
              "IPY_MODEL_75825e00b6c34eaea53fc6144b8f299a"
            ],
            "layout": "IPY_MODEL_2116913ca3e94796b3b2d2d5c8b96b98"
          }
        },
        "385f838615054228a26c039b248a975a": {
          "model_module": "@jupyter-widgets/controls",
          "model_name": "HTMLModel",
          "model_module_version": "1.5.0",
          "state": {
            "_dom_classes": [],
            "_model_module": "@jupyter-widgets/controls",
            "_model_module_version": "1.5.0",
            "_model_name": "HTMLModel",
            "_view_count": null,
            "_view_module": "@jupyter-widgets/controls",
            "_view_module_version": "1.5.0",
            "_view_name": "HTMLView",
            "description": "",
            "description_tooltip": null,
            "layout": "IPY_MODEL_a411971f2ef64cecb4a945fef3bb2b53",
            "placeholder": "​",
            "style": "IPY_MODEL_ddeb0531294043f2af27b3f9c932d54a",
            "value": "Batches: 100%"
          }
        },
        "de7e644b5d404498a1c55b83c3ba5364": {
          "model_module": "@jupyter-widgets/controls",
          "model_name": "FloatProgressModel",
          "model_module_version": "1.5.0",
          "state": {
            "_dom_classes": [],
            "_model_module": "@jupyter-widgets/controls",
            "_model_module_version": "1.5.0",
            "_model_name": "FloatProgressModel",
            "_view_count": null,
            "_view_module": "@jupyter-widgets/controls",
            "_view_module_version": "1.5.0",
            "_view_name": "ProgressView",
            "bar_style": "success",
            "description": "",
            "description_tooltip": null,
            "layout": "IPY_MODEL_28c1475cf6934c36a51fc1fb603e0c5f",
            "max": 11028,
            "min": 0,
            "orientation": "horizontal",
            "style": "IPY_MODEL_adb6d2ac7df941fcbaba7476ef7b4fda",
            "value": 11028
          }
        },
        "75825e00b6c34eaea53fc6144b8f299a": {
          "model_module": "@jupyter-widgets/controls",
          "model_name": "HTMLModel",
          "model_module_version": "1.5.0",
          "state": {
            "_dom_classes": [],
            "_model_module": "@jupyter-widgets/controls",
            "_model_module_version": "1.5.0",
            "_model_name": "HTMLModel",
            "_view_count": null,
            "_view_module": "@jupyter-widgets/controls",
            "_view_module_version": "1.5.0",
            "_view_name": "HTMLView",
            "description": "",
            "description_tooltip": null,
            "layout": "IPY_MODEL_08bee62c12d24e7891c236a87f95be21",
            "placeholder": "​",
            "style": "IPY_MODEL_269297205f534acfb70cd2728e44f1cb",
            "value": " 11028/11028 [17:28&lt;00:00, 24.25it/s]"
          }
        },
        "2116913ca3e94796b3b2d2d5c8b96b98": {
          "model_module": "@jupyter-widgets/base",
          "model_name": "LayoutModel",
          "model_module_version": "1.2.0",
          "state": {
            "_model_module": "@jupyter-widgets/base",
            "_model_module_version": "1.2.0",
            "_model_name": "LayoutModel",
            "_view_count": null,
            "_view_module": "@jupyter-widgets/base",
            "_view_module_version": "1.2.0",
            "_view_name": "LayoutView",
            "align_content": null,
            "align_items": null,
            "align_self": null,
            "border": null,
            "bottom": null,
            "display": null,
            "flex": null,
            "flex_flow": null,
            "grid_area": null,
            "grid_auto_columns": null,
            "grid_auto_flow": null,
            "grid_auto_rows": null,
            "grid_column": null,
            "grid_gap": null,
            "grid_row": null,
            "grid_template_areas": null,
            "grid_template_columns": null,
            "grid_template_rows": null,
            "height": null,
            "justify_content": null,
            "justify_items": null,
            "left": null,
            "margin": null,
            "max_height": null,
            "max_width": null,
            "min_height": null,
            "min_width": null,
            "object_fit": null,
            "object_position": null,
            "order": null,
            "overflow": null,
            "overflow_x": null,
            "overflow_y": null,
            "padding": null,
            "right": null,
            "top": null,
            "visibility": null,
            "width": null
          }
        },
        "a411971f2ef64cecb4a945fef3bb2b53": {
          "model_module": "@jupyter-widgets/base",
          "model_name": "LayoutModel",
          "model_module_version": "1.2.0",
          "state": {
            "_model_module": "@jupyter-widgets/base",
            "_model_module_version": "1.2.0",
            "_model_name": "LayoutModel",
            "_view_count": null,
            "_view_module": "@jupyter-widgets/base",
            "_view_module_version": "1.2.0",
            "_view_name": "LayoutView",
            "align_content": null,
            "align_items": null,
            "align_self": null,
            "border": null,
            "bottom": null,
            "display": null,
            "flex": null,
            "flex_flow": null,
            "grid_area": null,
            "grid_auto_columns": null,
            "grid_auto_flow": null,
            "grid_auto_rows": null,
            "grid_column": null,
            "grid_gap": null,
            "grid_row": null,
            "grid_template_areas": null,
            "grid_template_columns": null,
            "grid_template_rows": null,
            "height": null,
            "justify_content": null,
            "justify_items": null,
            "left": null,
            "margin": null,
            "max_height": null,
            "max_width": null,
            "min_height": null,
            "min_width": null,
            "object_fit": null,
            "object_position": null,
            "order": null,
            "overflow": null,
            "overflow_x": null,
            "overflow_y": null,
            "padding": null,
            "right": null,
            "top": null,
            "visibility": null,
            "width": null
          }
        },
        "ddeb0531294043f2af27b3f9c932d54a": {
          "model_module": "@jupyter-widgets/controls",
          "model_name": "DescriptionStyleModel",
          "model_module_version": "1.5.0",
          "state": {
            "_model_module": "@jupyter-widgets/controls",
            "_model_module_version": "1.5.0",
            "_model_name": "DescriptionStyleModel",
            "_view_count": null,
            "_view_module": "@jupyter-widgets/base",
            "_view_module_version": "1.2.0",
            "_view_name": "StyleView",
            "description_width": ""
          }
        },
        "28c1475cf6934c36a51fc1fb603e0c5f": {
          "model_module": "@jupyter-widgets/base",
          "model_name": "LayoutModel",
          "model_module_version": "1.2.0",
          "state": {
            "_model_module": "@jupyter-widgets/base",
            "_model_module_version": "1.2.0",
            "_model_name": "LayoutModel",
            "_view_count": null,
            "_view_module": "@jupyter-widgets/base",
            "_view_module_version": "1.2.0",
            "_view_name": "LayoutView",
            "align_content": null,
            "align_items": null,
            "align_self": null,
            "border": null,
            "bottom": null,
            "display": null,
            "flex": null,
            "flex_flow": null,
            "grid_area": null,
            "grid_auto_columns": null,
            "grid_auto_flow": null,
            "grid_auto_rows": null,
            "grid_column": null,
            "grid_gap": null,
            "grid_row": null,
            "grid_template_areas": null,
            "grid_template_columns": null,
            "grid_template_rows": null,
            "height": null,
            "justify_content": null,
            "justify_items": null,
            "left": null,
            "margin": null,
            "max_height": null,
            "max_width": null,
            "min_height": null,
            "min_width": null,
            "object_fit": null,
            "object_position": null,
            "order": null,
            "overflow": null,
            "overflow_x": null,
            "overflow_y": null,
            "padding": null,
            "right": null,
            "top": null,
            "visibility": null,
            "width": null
          }
        },
        "adb6d2ac7df941fcbaba7476ef7b4fda": {
          "model_module": "@jupyter-widgets/controls",
          "model_name": "ProgressStyleModel",
          "model_module_version": "1.5.0",
          "state": {
            "_model_module": "@jupyter-widgets/controls",
            "_model_module_version": "1.5.0",
            "_model_name": "ProgressStyleModel",
            "_view_count": null,
            "_view_module": "@jupyter-widgets/base",
            "_view_module_version": "1.2.0",
            "_view_name": "StyleView",
            "bar_color": null,
            "description_width": ""
          }
        },
        "08bee62c12d24e7891c236a87f95be21": {
          "model_module": "@jupyter-widgets/base",
          "model_name": "LayoutModel",
          "model_module_version": "1.2.0",
          "state": {
            "_model_module": "@jupyter-widgets/base",
            "_model_module_version": "1.2.0",
            "_model_name": "LayoutModel",
            "_view_count": null,
            "_view_module": "@jupyter-widgets/base",
            "_view_module_version": "1.2.0",
            "_view_name": "LayoutView",
            "align_content": null,
            "align_items": null,
            "align_self": null,
            "border": null,
            "bottom": null,
            "display": null,
            "flex": null,
            "flex_flow": null,
            "grid_area": null,
            "grid_auto_columns": null,
            "grid_auto_flow": null,
            "grid_auto_rows": null,
            "grid_column": null,
            "grid_gap": null,
            "grid_row": null,
            "grid_template_areas": null,
            "grid_template_columns": null,
            "grid_template_rows": null,
            "height": null,
            "justify_content": null,
            "justify_items": null,
            "left": null,
            "margin": null,
            "max_height": null,
            "max_width": null,
            "min_height": null,
            "min_width": null,
            "object_fit": null,
            "object_position": null,
            "order": null,
            "overflow": null,
            "overflow_x": null,
            "overflow_y": null,
            "padding": null,
            "right": null,
            "top": null,
            "visibility": null,
            "width": null
          }
        },
        "269297205f534acfb70cd2728e44f1cb": {
          "model_module": "@jupyter-widgets/controls",
          "model_name": "DescriptionStyleModel",
          "model_module_version": "1.5.0",
          "state": {
            "_model_module": "@jupyter-widgets/controls",
            "_model_module_version": "1.5.0",
            "_model_name": "DescriptionStyleModel",
            "_view_count": null,
            "_view_module": "@jupyter-widgets/base",
            "_view_module_version": "1.2.0",
            "_view_name": "StyleView",
            "description_width": ""
          }
        }
      }
    }
  },
  "nbformat": 4,
  "nbformat_minor": 0
}