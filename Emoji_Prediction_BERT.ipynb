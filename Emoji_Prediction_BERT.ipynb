{
  "cells": [
    {
      "cell_type": "markdown",
      "source": [
        ""
      ],
      "metadata": {
        "id": "j_v6fg2S8HDH"
      }
    },
    {
      "cell_type": "code",
      "execution_count": null,
      "metadata": {
        "id": "0SjS9_VR_aCT"
      },
      "outputs": [],
      "source": [
        "import torch\n",
        "import torch.nn as nn\n",
        "import torch.nn.functional as F\n",
        "import torch.optim as optim\n",
        "from torch.utils.data import TensorDataset, DataLoader\n",
        "\n",
        "from sklearn.model_selection import train_test_split\n",
        "\n",
        "import re\n",
        "import pandas as pd\n",
        "import numpy as np"
      ]
    },
    {
      "cell_type": "code",
      "source": [
        "from google.colab import drive\n",
        "drive.mount('/content/drive')"
      ],
      "metadata": {
        "colab": {
          "base_uri": "https://localhost:8080/"
        },
        "id": "zstgMk8ebZDS",
        "outputId": "56cc2ebf-dae7-4105-a276-bdd97681584e"
      },
      "execution_count": null,
      "outputs": [
        {
          "output_type": "stream",
          "name": "stdout",
          "text": [
            "Mounted at /content/drive\n"
          ]
        }
      ]
    },
    {
      "cell_type": "code",
      "source": [
        "%cd /content/drive/MyDrive/Colab Notebooks/data/emoji_tweets"
      ],
      "metadata": {
        "colab": {
          "base_uri": "https://localhost:8080/"
        },
        "id": "SEM1Km2BbgqQ",
        "outputId": "772fb236-6d93-45d5-e1ba-8aa5d4a30163"
      },
      "execution_count": null,
      "outputs": [
        {
          "output_type": "stream",
          "name": "stdout",
          "text": [
            "/content/drive/MyDrive/Colab Notebooks/data/emoji_tweets\n"
          ]
        }
      ]
    },
    {
      "cell_type": "code",
      "source": [
        "!pip install sentence-transformers"
      ],
      "metadata": {
        "id": "bKB4Filybovm"
      },
      "execution_count": null,
      "outputs": []
    },
    {
      "cell_type": "code",
      "execution_count": null,
      "metadata": {
        "id": "CSrOnzDIQXTj",
        "outputId": "c7317225-2528-4a69-c605-808d81cf0ee0"
      },
      "outputs": [
        {
          "name": "stdout",
          "output_type": "stream",
          "text": [
            "Found 400000 word vectors.\n"
          ]
        }
      ],
      "source": [
        "# glove_dir = './glove.6B.300d.txt'\n",
        "# input_dim = 300\n",
        "\n",
        "# vocab = {}\n",
        "# with open(glove_dir, encoding='utf8') as f:\n",
        "#     for line in f:\n",
        "#         values = line.split()\n",
        "#         word = values[0]\n",
        "#         vector = np.asarray(values[1:], \"float32\")\n",
        "#         vocab[word] = vector\n",
        "# f.close()\n",
        "\n",
        "# print('Found %s word vectors.' %len(vocab))"
      ]
    },
    {
      "cell_type": "code",
      "execution_count": null,
      "metadata": {
        "id": "xLVS6NSsQXTk"
      },
      "outputs": [],
      "source": [
        "# max_len = 50\n",
        "# zero_padding = [0]*input_dim\n",
        "\n",
        "# def get_embeddings(text, emb=\"LSTM\"):\n",
        "#     if emb == \"DNN\":\n",
        "#         embedding = [0]*input_dim\n",
        "#         i = 0\n",
        "#         for word in text.split(' '):\n",
        "#             if word in vocab:\n",
        "#                 i += 1\n",
        "#                 embedding += vocab[word]\n",
        "\n",
        "#         if i != 0:\n",
        "#             embedding /= i\n",
        "#     elif emb == \"LSTM\":\n",
        "#         embedding = []\n",
        "#         i = 0\n",
        "#         for word in text.split(' '):\n",
        "#             if i == max_len:\n",
        "#                 break\n",
        "#             if word in vocab:\n",
        "#                 i += 1\n",
        "#                 embedding.append(vocab[word])\n",
        "        \n",
        "#         while i < max_len:\n",
        "#             i += 1\n",
        "#             embedding.append(zero_padding)\n",
        "            \n",
        "#     return embedding"
      ]
    },
    {
      "cell_type": "code",
      "execution_count": null,
      "metadata": {
        "id": "UF7krt-gQXTl"
      },
      "outputs": [],
      "source": [
        "def clean(text):\n",
        "    \"\"\" Function to clean the text \"\"\"\n",
        "    text = text.lower()\n",
        "    text = re.sub(r'^https?:\\/\\/.*[\\r\\n]*', '', text, flags=re.MULTILINE)\n",
        "    texter = re.sub(r\"<br />\", \" \", text)\n",
        "    texter = re.sub(r\"&quot;\", \"\\\"\",texter)\n",
        "    texter = re.sub('&#39;', \"\\\"\", texter)\n",
        "    texter = re.sub('\\n', \" \", texter)\n",
        "    texter = re.sub(' u ',\" you \", texter)\n",
        "    texter = re.sub('`',\"\", texter)\n",
        "    texter = re.sub(' +', ' ', texter)\n",
        "    texter = re.sub(r\"(!)\\1+\", r\"!\", texter)\n",
        "    texter = re.sub(r\"(\\?)\\1+\", r\"?\", texter)\n",
        "    texter = re.sub('&amp;', 'and', texter)\n",
        "    texter = re.sub('\\r', ' ',texter)\n",
        "    \n",
        "    # Remove numbers from string\n",
        "    texter = re.sub(pattern=r\"[+-]?\\d+(?:\\.\\d+)?\", repl=\"\", string=texter, count=0, flags=0)\n",
        "    texter = texter.replace(\"  \", \" \")\n",
        "    clean = re.compile('<.*?>')\n",
        "    texter = texter.encode('ascii', 'ignore').decode('ascii')\n",
        "    texter = re.sub(clean, '', texter)\n",
        "    texter = re.sub(r'[^\\w\\s]', '', texter)\n",
        "    if texter == \"\":\n",
        "        texter = \"\"\n",
        "    return texter"
      ]
    },
    {
      "cell_type": "code",
      "execution_count": null,
      "metadata": {
        "id": "n53Z2sEYQXTm"
      },
      "outputs": [],
      "source": [
        "# def transform(X, emb=\"LSTM\"):\n",
        "#     embeddings = []\n",
        "#     for item in X:\n",
        "#         item = clean(item)\n",
        "#         embedding = get_embeddings(item, emb)\n",
        "#         embeddings.append(embedding)\n",
        "    \n",
        "#     return embeddings"
      ]
    },
    {
      "cell_type": "code",
      "source": [
        ""
      ],
      "metadata": {
        "id": "EjTLIIn9b0vK"
      },
      "execution_count": null,
      "outputs": []
    },
    {
      "cell_type": "code",
      "execution_count": null,
      "metadata": {
        "id": "8hrQxYSgQXTo"
      },
      "outputs": [],
      "source": [
        "inputs_file = \"./tweets_training.txt\"\n",
        "labels_file = \"./tweets_training_labels.txt\"\n",
        "\n",
        "X = []\n",
        "with open(inputs_file, encoding='utf8') as f:\n",
        "    for line in f:\n",
        "        X.append(line)\n",
        "f.close()\n",
        "# print(len(X))\n",
        "\n",
        "y = []\n",
        "with open(labels_file, encoding='utf8') as f:\n",
        "    for line in f:\n",
        "        y.append(int(line))\n",
        "f.close()\n",
        "\n"
      ]
    },
    {
      "cell_type": "code",
      "source": [
        "cleaned_x = []\n",
        "for line in X:\n",
        "  cleaned_x.append(clean(line))"
      ],
      "metadata": {
        "id": "NFff5dXucI2E"
      },
      "execution_count": null,
      "outputs": []
    },
    {
      "cell_type": "code",
      "source": [
        "# X = X[:1000]\n",
        "# y = y[:1000]"
      ],
      "metadata": {
        "id": "TVPwoVeIuYs5"
      },
      "execution_count": null,
      "outputs": []
    },
    {
      "cell_type": "code",
      "source": [
        "from sentence_transformers import SentenceTransformer\n",
        "sbert_model = SentenceTransformer('bert-base-nli-mean-tokens', device='cuda')"
      ],
      "metadata": {
        "id": "Pr6zdhtocePe"
      },
      "execution_count": null,
      "outputs": []
    },
    {
      "cell_type": "code",
      "source": [
        "sentence_embeddings = sbert_model.encode(cleaned_x, show_progress_bar=True)\n",
        "X = sentence_embeddings"
      ],
      "metadata": {
        "colab": {
          "base_uri": "https://localhost:8080/",
          "height": 49,
          "referenced_widgets": [
            "b881cf92bd8147e086ec0e2e031b1322",
            "404fe85b7c874b329d15f56e1cd73b2f",
            "e221b4620c1940cf80c3fdb6730421c0",
            "04383b0327f64885b99a60220c49d5ff",
            "7cdf29ce312b4f87b6e06e7187354edb",
            "cc5373a7d3d2421aa4ef5376e166a838",
            "55f8953ed8a44fcd863cc784930c966e",
            "a5cc0cd07bcc40828b59c59d7652f05b",
            "e403ecdf64d34cc88aa0802cb5ecdad4",
            "94dea7bf50af4d59aaca651a71dabb92",
            "b53faeb1c91c453b934665fbf9deed44"
          ]
        },
        "id": "OWwxJJOhcqDq",
        "outputId": "67b98a8e-881b-42f1-fa5f-ed80dcbc84e0"
      },
      "execution_count": null,
      "outputs": [
        {
          "output_type": "display_data",
          "data": {
            "text/plain": [
              "Batches:   0%|          | 0/11028 [00:00<?, ?it/s]"
            ],
            "application/vnd.jupyter.widget-view+json": {
              "version_major": 2,
              "version_minor": 0,
              "model_id": "b881cf92bd8147e086ec0e2e031b1322"
            }
          },
          "metadata": {}
        }
      ]
    },
    {
      "cell_type": "code",
      "execution_count": null,
      "metadata": {
        "id": "wAT-LUhCQXTn"
      },
      "outputs": [],
      "source": [
        "# Hyperparameters\n",
        "num_epochs = 10\n",
        "batch_size = 64\n",
        "learning_rate = 0.0001\n",
        "dropout = 0.25"
      ]
    },
    {
      "cell_type": "code",
      "execution_count": null,
      "metadata": {
        "id": "m77ISC4uQXTo"
      },
      "outputs": [],
      "source": [
        "# X = transform(X, \"DNN\")\n",
        "X_train, X_test, y_train, y_test = train_test_split(X, y, test_size=0.15, random_state=42)\n",
        "\n",
        "X_tr = torch.tensor(X_train, dtype=torch.float)\n",
        "y_tr = torch.tensor(y_train)\n",
        "train = TensorDataset(X_tr, y_tr)\n",
        "trainloader = DataLoader(train, batch_size=batch_size)\n",
        "\n",
        "X_te = torch.tensor(X_test, dtype=torch.float)\n",
        "y_te = torch.tensor(y_test)\n",
        "test = TensorDataset(X_te, y_te)\n",
        "testloader = DataLoader(test)"
      ]
    },
    {
      "cell_type": "code",
      "execution_count": null,
      "metadata": {
        "id": "bSkjj0_Y_iFo"
      },
      "outputs": [],
      "source": [
        "class Net(nn.Module):\n",
        "    \n",
        "    def __init__(self):\n",
        "        super().__init__()\n",
        "        self.fc1 = nn.Linear(768, 500)\n",
        "        self.hidden1 = nn.Linear(500, 500)\n",
        "        self.hidden2 = nn.Linear(500, 500)\n",
        "        self.fc2 = nn.Linear(500, 20)\n",
        "        self.dropout = nn.Dropout(0.25)\n",
        "        \n",
        "        self.batchnorm1 = nn.BatchNorm1d(500)\n",
        "        self.batchnorm2 = nn.BatchNorm1d(500)\n",
        "        self.batchnorm3 = nn.BatchNorm1d(500)\n",
        "\n",
        "    def forward(self, x):\n",
        "        x = F.relu(self.fc1(x))\n",
        "        x = self.batchnorm1(x)\n",
        "        x = self.dropout(x)\n",
        "        x = F.relu(self.hidden1(x))\n",
        "        x = self.batchnorm2(x)\n",
        "        x = self.dropout(x)\n",
        "        x = F.relu(self.hidden2(x))\n",
        "        x = self.batchnorm3(x)\n",
        "        x = self.dropout(x)\n",
        "#         x = self.fc2(x)\n",
        "        x = F.softmax(self.fc2(x), dim=1)\n",
        "        return x\n",
        "\n",
        "net = Net()"
      ]
    },
    {
      "cell_type": "code",
      "execution_count": null,
      "metadata": {
        "id": "RsvoKzK7U2RP"
      },
      "outputs": [],
      "source": [
        "# Loss function\n",
        "criterion = nn.CrossEntropyLoss()\n",
        "\n",
        "# create your optimizer\n",
        "optimizer = optim.Adam(net.parameters(), lr=learning_rate)"
      ]
    },
    {
      "cell_type": "code",
      "execution_count": null,
      "metadata": {
        "id": "psbaXAZAV2v7"
      },
      "outputs": [],
      "source": [
        "# Training\n",
        "net.train()\n",
        "for epoch in range(num_epochs):\n",
        "    for i, data in enumerate(trainloader):\n",
        "        inputs, labels = data\n",
        "\n",
        "        outputs = net(inputs)\n",
        "        loss = criterion(outputs, labels)\n",
        "        \n",
        "        optimizer.zero_grad()\n",
        "        loss.backward()\n",
        "        optimizer.step()\n",
        "\n",
        "        if (i+1) % 500 == 0:\n",
        "            print ('Epoch [%d/%d], Step [%d/%d], Loss: %.4f'\n",
        "                   %(epoch+1, num_epochs, i+1, len(trainloader), loss.data))"
      ]
    },
    {
      "cell_type": "code",
      "execution_count": null,
      "metadata": {
        "id": "z5kjmMppXtrH"
      },
      "outputs": [],
      "source": [
        "# Testing\n",
        "total, correct = 0, 0\n",
        "\n",
        "net.eval()\n",
        "outputs = net(X_te)\n",
        "\n",
        "_, predicted = torch.max(outputs, 1)\n",
        "\n",
        "total += y_te.size(0)\n",
        "correct += (predicted == y_te).sum()\n",
        "\n",
        "print(f'Accuracy of the model is: {100*correct/total:.2f}%')"
      ]
    },
    {
      "cell_type": "code",
      "source": [
        "X.shape"
      ],
      "metadata": {
        "colab": {
          "base_uri": "https://localhost:8080/"
        },
        "id": "u8BgBTfwvZJd",
        "outputId": "2b205019-9a9b-4af5-f052-7ada65e8cfe1"
      },
      "execution_count": 94,
      "outputs": [
        {
          "output_type": "execute_result",
          "data": {
            "text/plain": [
              "(352867, 768)"
            ]
          },
          "metadata": {},
          "execution_count": 94
        }
      ]
    },
    {
      "cell_type": "code",
      "source": [
        "X_lstm = X.reshape(X.shape[0], 1, X.shape[1])\n",
        "X_lstm.shape"
      ],
      "metadata": {
        "colab": {
          "base_uri": "https://localhost:8080/"
        },
        "id": "0yJli-UQu0bq",
        "outputId": "497e6850-0834-4968-836a-0751da08da18"
      },
      "execution_count": 95,
      "outputs": [
        {
          "output_type": "execute_result",
          "data": {
            "text/plain": [
              "(352867, 1, 768)"
            ]
          },
          "metadata": {},
          "execution_count": 95
        }
      ]
    },
    {
      "cell_type": "code",
      "execution_count": 96,
      "metadata": {
        "id": "Ct-_tUmKQXTt"
      },
      "outputs": [],
      "source": [
        "# Hyperparameters\n",
        "num_epochs = 3\n",
        "batch_size = 256\n",
        "learning_rate = 0.0005\n",
        "dropout = 0.5"
      ]
    },
    {
      "cell_type": "code",
      "execution_count": 101,
      "metadata": {
        "id": "sXs8lgrIa09X"
      },
      "outputs": [],
      "source": [
        "class LSTM(nn.Module): \n",
        "    def __init__(self, num_classes, input_size, hidden_size, num_layers, seq_length, dropout):\n",
        "        super(LSTM, self).__init__()\n",
        "        self.num_classes = num_classes #number of classes\n",
        "        self.num_layers = num_layers #number of layers\n",
        "        self.input_size = input_size #input size\n",
        "        self.hidden_size = hidden_size #hidden state\n",
        "        self.seq_length = seq_length #sequence length\n",
        "\n",
        "        self.lstm = nn.LSTM(input_size=input_size, hidden_size=hidden_size,\n",
        "                          num_layers=num_layers, dropout=dropout, batch_first=True).to('cuda') #lstm\n",
        "        self.fc1 =  nn.Linear(hidden_size, 128) #fully connected 1\n",
        "        self.fc2 = nn.Linear(128, num_classes) #fully connected last layer\n",
        "\n",
        "    def forward(self, x):\n",
        "        h_0 = torch.zeros(self.num_layers, x.size(0), self.hidden_size).to('cuda') #hidden state\n",
        "        c_0 = torch.zeros(self.num_layers, x.size(0), self.hidden_size).to('cuda') \n",
        "        \n",
        "        # Propagate input through LSTM\n",
        "        x, _ = self.lstm(x, (h_0, c_0)) #lstm with input, hidden, and internal state\n",
        "        \n",
        "        # Flatten lstm output\n",
        "        x = x[:, -1, :]\n",
        "        \n",
        "        x = F.relu(self.fc1(x))\n",
        "        x = F.softmax(self.fc2(x), dim=1)\n",
        "        return x\n",
        "\n",
        "lstm = LSTM(20, 768, 128, 2, 768, dropout).to('cuda')"
      ]
    },
    {
      "cell_type": "code",
      "execution_count": 102,
      "metadata": {
        "colab": {
          "base_uri": "https://localhost:8080/"
        },
        "id": "nvPfO5jDQXTs",
        "outputId": "62314e5c-f928-4d5f-a6e5-55c6b5721ead"
      },
      "outputs": [
        {
          "output_type": "stream",
          "name": "stdout",
          "text": [
            "299936\n",
            "torch.Size([299936, 1, 768])\n"
          ]
        }
      ],
      "source": [
        "## LSTM\n",
        "# X = transform(X)\n",
        "X_train, X_test, y_train, y_test = train_test_split(X_lstm, y, test_size=0.15, random_state=42)\n",
        "\n",
        "\n",
        "X_tr = torch.tensor(X_train, dtype=torch.float)\n",
        "y_tr = torch.tensor(y_train)\n",
        "train = TensorDataset(X_tr, y_tr)\n",
        "X_tr = X_tr.to(device='cuda')\n",
        "y_tr = y_tr.to(device='cuda')\n",
        "trainloader = DataLoader(train, batch_size=batch_size)\n",
        "\n",
        "X_te = torch.tensor(X_test, dtype=torch.float)\n",
        "y_te = torch.tensor(y_test)\n",
        "X_te = X_te.to(device='cuda')\n",
        "y_te = y_te.to(device='cuda')\n",
        "test = TensorDataset(X_te, y_te)\n",
        "testloader = DataLoader(test)\n",
        "\n",
        "print(len(y_tr))\n",
        "print(X_tr.size())"
      ]
    },
    {
      "cell_type": "code",
      "execution_count": 103,
      "metadata": {
        "id": "YosBv8FHQXTu"
      },
      "outputs": [],
      "source": [
        "# Loss function\n",
        "criterion = nn.CrossEntropyLoss()\n",
        "\n",
        "# create your optimizer\n",
        "optimizer = optim.Adam(lstm.parameters(), lr=learning_rate)"
      ]
    },
    {
      "cell_type": "code",
      "execution_count": 104,
      "metadata": {
        "colab": {
          "base_uri": "https://localhost:8080/"
        },
        "id": "9NPbFU0lQXTu",
        "outputId": "3e664bdc-2cfc-4cdc-8d1a-38a8880e8ca2"
      },
      "outputs": [
        {
          "output_type": "stream",
          "name": "stdout",
          "text": [
            "Epoch [1/3], Step [250/1171], Loss: 2.8282\n",
            "Epoch [1/3], Step [500/1171], Loss: 2.8627\n",
            "Epoch [1/3], Step [750/1171], Loss: 2.8465\n",
            "Epoch [1/3], Step [1000/1171], Loss: 2.7889\n",
            "Epoch [2/3], Step [250/1171], Loss: 2.7766\n",
            "Epoch [2/3], Step [500/1171], Loss: 2.8294\n",
            "Epoch [2/3], Step [750/1171], Loss: 2.8388\n",
            "Epoch [2/3], Step [1000/1171], Loss: 2.7756\n",
            "Epoch [3/3], Step [250/1171], Loss: 2.7599\n",
            "Epoch [3/3], Step [500/1171], Loss: 2.8191\n",
            "Epoch [3/3], Step [750/1171], Loss: 2.8369\n",
            "Epoch [3/3], Step [1000/1171], Loss: 2.7747\n"
          ]
        }
      ],
      "source": [
        "# Training\n",
        "# lstm = lstm.to(device=\"cuda\")\n",
        "# trainloader.to(device=\"cuda\")\n",
        "for epoch in range(num_epochs):\n",
        "    running_loss = 0\n",
        "    for i, data in enumerate(trainloader):\n",
        "        inputs, labels = data\n",
        "        inputs = inputs.to('cuda')\n",
        "        labels = labels.to('cuda')\n",
        "\n",
        "        outputs = lstm(inputs)\n",
        "        loss = criterion(outputs, labels)\n",
        "\n",
        "        loss.backward()\n",
        "        optimizer.step()\n",
        "\n",
        "        optimizer.zero_grad()\n",
        "\n",
        "        running_loss += loss.item()\n",
        "        \n",
        "        if (i+1) % 250 == 0:\n",
        "            print ('Epoch [%d/%d], Step [%d/%d], Loss: %.4f'\n",
        "                   %(epoch+1, num_epochs, i+1, len(X_tr)//batch_size, loss.data))"
      ]
    },
    {
      "cell_type": "code",
      "execution_count": 105,
      "metadata": {
        "id": "PwooewVlQXTv",
        "colab": {
          "base_uri": "https://localhost:8080/"
        },
        "outputId": "4caad369-9dde-4af5-8076-d7bacd6f7379"
      },
      "outputs": [
        {
          "output_type": "stream",
          "name": "stdout",
          "text": [
            "Accuracy of the model is: 26.93%\n"
          ]
        }
      ],
      "source": [
        "# Testing\n",
        "total, correct = 0, 0\n",
        "with torch.no_grad():\n",
        "    for data in testloader:\n",
        "        inputs, labels = data\n",
        "        inputs = inputs.to('cuda')\n",
        "        labels = labels.to('cuda')\n",
        "\n",
        "        outputs = lstm(inputs)\n",
        "\n",
        "        _, predicted = torch.max(outputs, 1)\n",
        "\n",
        "        total += labels.size(0)\n",
        "        correct += (predicted == labels).sum()\n",
        "\n",
        "print(f'Accuracy of the model is: {100*correct/total:.2f}%')"
      ]
    },
    {
      "cell_type": "code",
      "execution_count": null,
      "metadata": {
        "id": "a61BEEoKQXTw"
      },
      "outputs": [],
      "source": [
        ""
      ]
    }
  ],
  "metadata": {
    "accelerator": "GPU",
    "colab": {
      "collapsed_sections": [],
      "name": "Emoji_Prediction.ipynb",
      "provenance": []
    },
    "kernelspec": {
      "display_name": "Python 3 (ipykernel)",
      "language": "python",
      "name": "python3"
    },
    "language_info": {
      "codemirror_mode": {
        "name": "ipython",
        "version": 3
      },
      "file_extension": ".py",
      "mimetype": "text/x-python",
      "name": "python",
      "nbconvert_exporter": "python",
      "pygments_lexer": "ipython3",
      "version": "3.9.7"
    },
    "widgets": {
      "application/vnd.jupyter.widget-state+json": {
        "b881cf92bd8147e086ec0e2e031b1322": {
          "model_module": "@jupyter-widgets/controls",
          "model_name": "HBoxModel",
          "model_module_version": "1.5.0",
          "state": {
            "_dom_classes": [],
            "_model_module": "@jupyter-widgets/controls",
            "_model_module_version": "1.5.0",
            "_model_name": "HBoxModel",
            "_view_count": null,
            "_view_module": "@jupyter-widgets/controls",
            "_view_module_version": "1.5.0",
            "_view_name": "HBoxView",
            "box_style": "",
            "children": [
              "IPY_MODEL_404fe85b7c874b329d15f56e1cd73b2f",
              "IPY_MODEL_e221b4620c1940cf80c3fdb6730421c0",
              "IPY_MODEL_04383b0327f64885b99a60220c49d5ff"
            ],
            "layout": "IPY_MODEL_7cdf29ce312b4f87b6e06e7187354edb"
          }
        },
        "404fe85b7c874b329d15f56e1cd73b2f": {
          "model_module": "@jupyter-widgets/controls",
          "model_name": "HTMLModel",
          "model_module_version": "1.5.0",
          "state": {
            "_dom_classes": [],
            "_model_module": "@jupyter-widgets/controls",
            "_model_module_version": "1.5.0",
            "_model_name": "HTMLModel",
            "_view_count": null,
            "_view_module": "@jupyter-widgets/controls",
            "_view_module_version": "1.5.0",
            "_view_name": "HTMLView",
            "description": "",
            "description_tooltip": null,
            "layout": "IPY_MODEL_cc5373a7d3d2421aa4ef5376e166a838",
            "placeholder": "​",
            "style": "IPY_MODEL_55f8953ed8a44fcd863cc784930c966e",
            "value": "Batches: 100%"
          }
        },
        "e221b4620c1940cf80c3fdb6730421c0": {
          "model_module": "@jupyter-widgets/controls",
          "model_name": "FloatProgressModel",
          "model_module_version": "1.5.0",
          "state": {
            "_dom_classes": [],
            "_model_module": "@jupyter-widgets/controls",
            "_model_module_version": "1.5.0",
            "_model_name": "FloatProgressModel",
            "_view_count": null,
            "_view_module": "@jupyter-widgets/controls",
            "_view_module_version": "1.5.0",
            "_view_name": "ProgressView",
            "bar_style": "success",
            "description": "",
            "description_tooltip": null,
            "layout": "IPY_MODEL_a5cc0cd07bcc40828b59c59d7652f05b",
            "max": 11028,
            "min": 0,
            "orientation": "horizontal",
            "style": "IPY_MODEL_e403ecdf64d34cc88aa0802cb5ecdad4",
            "value": 11028
          }
        },
        "04383b0327f64885b99a60220c49d5ff": {
          "model_module": "@jupyter-widgets/controls",
          "model_name": "HTMLModel",
          "model_module_version": "1.5.0",
          "state": {
            "_dom_classes": [],
            "_model_module": "@jupyter-widgets/controls",
            "_model_module_version": "1.5.0",
            "_model_name": "HTMLModel",
            "_view_count": null,
            "_view_module": "@jupyter-widgets/controls",
            "_view_module_version": "1.5.0",
            "_view_name": "HTMLView",
            "description": "",
            "description_tooltip": null,
            "layout": "IPY_MODEL_94dea7bf50af4d59aaca651a71dabb92",
            "placeholder": "​",
            "style": "IPY_MODEL_b53faeb1c91c453b934665fbf9deed44",
            "value": " 11028/11028 [18:27&lt;00:00, 23.17it/s]"
          }
        },
        "7cdf29ce312b4f87b6e06e7187354edb": {
          "model_module": "@jupyter-widgets/base",
          "model_name": "LayoutModel",
          "model_module_version": "1.2.0",
          "state": {
            "_model_module": "@jupyter-widgets/base",
            "_model_module_version": "1.2.0",
            "_model_name": "LayoutModel",
            "_view_count": null,
            "_view_module": "@jupyter-widgets/base",
            "_view_module_version": "1.2.0",
            "_view_name": "LayoutView",
            "align_content": null,
            "align_items": null,
            "align_self": null,
            "border": null,
            "bottom": null,
            "display": null,
            "flex": null,
            "flex_flow": null,
            "grid_area": null,
            "grid_auto_columns": null,
            "grid_auto_flow": null,
            "grid_auto_rows": null,
            "grid_column": null,
            "grid_gap": null,
            "grid_row": null,
            "grid_template_areas": null,
            "grid_template_columns": null,
            "grid_template_rows": null,
            "height": null,
            "justify_content": null,
            "justify_items": null,
            "left": null,
            "margin": null,
            "max_height": null,
            "max_width": null,
            "min_height": null,
            "min_width": null,
            "object_fit": null,
            "object_position": null,
            "order": null,
            "overflow": null,
            "overflow_x": null,
            "overflow_y": null,
            "padding": null,
            "right": null,
            "top": null,
            "visibility": null,
            "width": null
          }
        },
        "cc5373a7d3d2421aa4ef5376e166a838": {
          "model_module": "@jupyter-widgets/base",
          "model_name": "LayoutModel",
          "model_module_version": "1.2.0",
          "state": {
            "_model_module": "@jupyter-widgets/base",
            "_model_module_version": "1.2.0",
            "_model_name": "LayoutModel",
            "_view_count": null,
            "_view_module": "@jupyter-widgets/base",
            "_view_module_version": "1.2.0",
            "_view_name": "LayoutView",
            "align_content": null,
            "align_items": null,
            "align_self": null,
            "border": null,
            "bottom": null,
            "display": null,
            "flex": null,
            "flex_flow": null,
            "grid_area": null,
            "grid_auto_columns": null,
            "grid_auto_flow": null,
            "grid_auto_rows": null,
            "grid_column": null,
            "grid_gap": null,
            "grid_row": null,
            "grid_template_areas": null,
            "grid_template_columns": null,
            "grid_template_rows": null,
            "height": null,
            "justify_content": null,
            "justify_items": null,
            "left": null,
            "margin": null,
            "max_height": null,
            "max_width": null,
            "min_height": null,
            "min_width": null,
            "object_fit": null,
            "object_position": null,
            "order": null,
            "overflow": null,
            "overflow_x": null,
            "overflow_y": null,
            "padding": null,
            "right": null,
            "top": null,
            "visibility": null,
            "width": null
          }
        },
        "55f8953ed8a44fcd863cc784930c966e": {
          "model_module": "@jupyter-widgets/controls",
          "model_name": "DescriptionStyleModel",
          "model_module_version": "1.5.0",
          "state": {
            "_model_module": "@jupyter-widgets/controls",
            "_model_module_version": "1.5.0",
            "_model_name": "DescriptionStyleModel",
            "_view_count": null,
            "_view_module": "@jupyter-widgets/base",
            "_view_module_version": "1.2.0",
            "_view_name": "StyleView",
            "description_width": ""
          }
        },
        "a5cc0cd07bcc40828b59c59d7652f05b": {
          "model_module": "@jupyter-widgets/base",
          "model_name": "LayoutModel",
          "model_module_version": "1.2.0",
          "state": {
            "_model_module": "@jupyter-widgets/base",
            "_model_module_version": "1.2.0",
            "_model_name": "LayoutModel",
            "_view_count": null,
            "_view_module": "@jupyter-widgets/base",
            "_view_module_version": "1.2.0",
            "_view_name": "LayoutView",
            "align_content": null,
            "align_items": null,
            "align_self": null,
            "border": null,
            "bottom": null,
            "display": null,
            "flex": null,
            "flex_flow": null,
            "grid_area": null,
            "grid_auto_columns": null,
            "grid_auto_flow": null,
            "grid_auto_rows": null,
            "grid_column": null,
            "grid_gap": null,
            "grid_row": null,
            "grid_template_areas": null,
            "grid_template_columns": null,
            "grid_template_rows": null,
            "height": null,
            "justify_content": null,
            "justify_items": null,
            "left": null,
            "margin": null,
            "max_height": null,
            "max_width": null,
            "min_height": null,
            "min_width": null,
            "object_fit": null,
            "object_position": null,
            "order": null,
            "overflow": null,
            "overflow_x": null,
            "overflow_y": null,
            "padding": null,
            "right": null,
            "top": null,
            "visibility": null,
            "width": null
          }
        },
        "e403ecdf64d34cc88aa0802cb5ecdad4": {
          "model_module": "@jupyter-widgets/controls",
          "model_name": "ProgressStyleModel",
          "model_module_version": "1.5.0",
          "state": {
            "_model_module": "@jupyter-widgets/controls",
            "_model_module_version": "1.5.0",
            "_model_name": "ProgressStyleModel",
            "_view_count": null,
            "_view_module": "@jupyter-widgets/base",
            "_view_module_version": "1.2.0",
            "_view_name": "StyleView",
            "bar_color": null,
            "description_width": ""
          }
        },
        "94dea7bf50af4d59aaca651a71dabb92": {
          "model_module": "@jupyter-widgets/base",
          "model_name": "LayoutModel",
          "model_module_version": "1.2.0",
          "state": {
            "_model_module": "@jupyter-widgets/base",
            "_model_module_version": "1.2.0",
            "_model_name": "LayoutModel",
            "_view_count": null,
            "_view_module": "@jupyter-widgets/base",
            "_view_module_version": "1.2.0",
            "_view_name": "LayoutView",
            "align_content": null,
            "align_items": null,
            "align_self": null,
            "border": null,
            "bottom": null,
            "display": null,
            "flex": null,
            "flex_flow": null,
            "grid_area": null,
            "grid_auto_columns": null,
            "grid_auto_flow": null,
            "grid_auto_rows": null,
            "grid_column": null,
            "grid_gap": null,
            "grid_row": null,
            "grid_template_areas": null,
            "grid_template_columns": null,
            "grid_template_rows": null,
            "height": null,
            "justify_content": null,
            "justify_items": null,
            "left": null,
            "margin": null,
            "max_height": null,
            "max_width": null,
            "min_height": null,
            "min_width": null,
            "object_fit": null,
            "object_position": null,
            "order": null,
            "overflow": null,
            "overflow_x": null,
            "overflow_y": null,
            "padding": null,
            "right": null,
            "top": null,
            "visibility": null,
            "width": null
          }
        },
        "b53faeb1c91c453b934665fbf9deed44": {
          "model_module": "@jupyter-widgets/controls",
          "model_name": "DescriptionStyleModel",
          "model_module_version": "1.5.0",
          "state": {
            "_model_module": "@jupyter-widgets/controls",
            "_model_module_version": "1.5.0",
            "_model_name": "DescriptionStyleModel",
            "_view_count": null,
            "_view_module": "@jupyter-widgets/base",
            "_view_module_version": "1.2.0",
            "_view_name": "StyleView",
            "description_width": ""
          }
        }
      }
    }
  },
  "nbformat": 4,
  "nbformat_minor": 0
}